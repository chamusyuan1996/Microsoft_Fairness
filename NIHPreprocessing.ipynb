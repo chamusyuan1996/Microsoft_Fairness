{
 "cells": [
  {
   "cell_type": "code",
   "execution_count": 1,
   "metadata": {},
   "outputs": [],
   "source": [
    "import cv2\n",
    "import os\n",
    "import pandas as pd\n",
    "import numpy as np"
   ]
  },
  {
   "cell_type": "code",
   "execution_count": 2,
   "metadata": {},
   "outputs": [],
   "source": [
    "folder = 'NIHimages/'\n",
    "image_name_list = os.listdir(folder)"
   ]
  },
  {
   "cell_type": "code",
   "execution_count": 3,
   "metadata": {},
   "outputs": [],
   "source": [
    "demo_filename = 'Data_Entry_2017_v2020.csv'"
   ]
  },
  {
   "cell_type": "code",
   "execution_count": 4,
   "metadata": {},
   "outputs": [
    {
     "name": "stdout",
     "output_type": "stream",
     "text": [
      "4999\n"
     ]
    }
   ],
   "source": [
    "n = len(image_name_list)\n",
    "print(n)"
   ]
  },
  {
   "cell_type": "code",
   "execution_count": 5,
   "metadata": {},
   "outputs": [],
   "source": [
    "df = pd.read_csv(demo_filename)"
   ]
  },
  {
   "cell_type": "code",
   "execution_count": 6,
   "metadata": {},
   "outputs": [
    {
     "data": {
      "text/plain": [
       "0       00000001_000.png\n",
       "1       00000001_001.png\n",
       "2       00000001_002.png\n",
       "3       00000002_000.png\n",
       "4       00000003_001.png\n",
       "              ...       \n",
       "4994    00001335_002.png\n",
       "4995    00001335_003.png\n",
       "4996    00001335_004.png\n",
       "4997    00001335_005.png\n",
       "4998    00001335_006.png\n",
       "Name: Image Index, Length: 4999, dtype: object"
      ]
     },
     "execution_count": 6,
     "metadata": {},
     "output_type": "execute_result"
    }
   ],
   "source": [
    "df['Image Index'][:n]"
   ]
  },
  {
   "cell_type": "code",
   "execution_count": 7,
   "metadata": {},
   "outputs": [],
   "source": [
    "df1 = df[:n]"
   ]
  },
  {
   "cell_type": "code",
   "execution_count": 8,
   "metadata": {},
   "outputs": [],
   "source": [
    "labels = ['Cardiomegaly',\n",
    " 'Emphysema',\n",
    " 'Effusion',\n",
    " 'No Finding',\n",
    " 'Hernia',\n",
    " 'Infiltration',\n",
    " 'Mass',\n",
    " 'Nodule',\n",
    " 'Atelectasis',\n",
    " 'Pneumothorax',\n",
    " 'Pleural_Thickening',\n",
    " 'Pneumonia',\n",
    " 'Fibrosis',\n",
    " 'Edema',\n",
    " 'Consolidation']"
   ]
  },
  {
   "cell_type": "code",
   "execution_count": 9,
   "metadata": {},
   "outputs": [
    {
     "name": "stderr",
     "output_type": "stream",
     "text": [
      "/Users/chamusyuan/anaconda3/lib/python3.7/site-packages/ipykernel_launcher.py:2: SettingWithCopyWarning: \n",
      "A value is trying to be set on a copy of a slice from a DataFrame.\n",
      "Try using .loc[row_indexer,col_indexer] = value instead\n",
      "\n",
      "See the caveats in the documentation: https://pandas.pydata.org/pandas-docs/stable/user_guide/indexing.html#returning-a-view-versus-a-copy\n",
      "  \n",
      "/Users/chamusyuan/anaconda3/lib/python3.7/site-packages/pandas/core/indexing.py:1720: SettingWithCopyWarning: \n",
      "A value is trying to be set on a copy of a slice from a DataFrame.\n",
      "Try using .loc[row_indexer,col_indexer] = value instead\n",
      "\n",
      "See the caveats in the documentation: https://pandas.pydata.org/pandas-docs/stable/user_guide/indexing.html#returning-a-view-versus-a-copy\n",
      "  self._setitem_single_column(loc, value, pi)\n"
     ]
    }
   ],
   "source": [
    "for l in labels:\n",
    "    df1[l] = 0\n",
    "    \n",
    "for i in range(len(df1.index)):\n",
    "    for j in range(len(labels)):\n",
    "        label = labels[j]\n",
    "        if label in df1.loc[i,'Finding Labels'].split('|'):\n",
    "            df1.loc[i, label] = 1"
   ]
  },
  {
   "cell_type": "code",
   "execution_count": 10,
   "metadata": {},
   "outputs": [],
   "source": [
    "df1.to_csv('preprocessed.csv')"
   ]
  },
  {
   "cell_type": "code",
   "execution_count": 11,
   "metadata": {},
   "outputs": [],
   "source": [
    "def preprocess_NIH(split):\n",
    "    split['Patient Age'] = np.where(split['Patient Age'].between(0,19), 19, split['Patient Age'])\n",
    "    split['Patient Age'] = np.where(split['Patient Age'].between(20,39), 39, split['Patient Age'])\n",
    "    split['Patient Age'] = np.where(split['Patient Age'].between(40,59), 59, split['Patient Age'])\n",
    "    split['Patient Age'] = np.where(split['Patient Age'].between(60,79), 79, split['Patient Age'])\n",
    "    split['Patient Age'] = np.where(split['Patient Age']>=80, 81, split['Patient Age'])\n",
    "   \n",
    "    copy_sunbjectid = split['Patient ID']\n",
    "    split.drop(columns = ['Patient ID'])\n",
    "   \n",
    "    split = split.replace([[None], -1, \"[False]\", \"[True]\", \"[ True]\"],\n",
    "                            [0, 0, 0, 1, 1])\n",
    "    \n",
    "    split['Patient Age'] = split['Patient Age'].replace([19, 39, 59, 79, 81],\n",
    "                            [ \"0-20\", \"20-40\", \"40-60\", \"60-80\", \"80-\"])\n",
    "   \n",
    "    split['subject_id'] = copy_sunbjectid\n",
    "    split['Sex'] = split['Patient Gender']\n",
    "    split['Age'] = split['Patient Age']\n",
    "    split['path'] = split['Image Index']\n",
    "    split = split.drop(columns=[\"Patient Gender\", 'Patient Age', 'Image Index'])\n",
    "   \n",
    "    return split"
   ]
  },
  {
   "cell_type": "code",
   "execution_count": 12,
   "metadata": {},
   "outputs": [
    {
     "name": "stderr",
     "output_type": "stream",
     "text": [
      "/Users/chamusyuan/anaconda3/lib/python3.7/site-packages/ipykernel_launcher.py:2: SettingWithCopyWarning: \n",
      "A value is trying to be set on a copy of a slice from a DataFrame.\n",
      "Try using .loc[row_indexer,col_indexer] = value instead\n",
      "\n",
      "See the caveats in the documentation: https://pandas.pydata.org/pandas-docs/stable/user_guide/indexing.html#returning-a-view-versus-a-copy\n",
      "  \n",
      "/Users/chamusyuan/anaconda3/lib/python3.7/site-packages/ipykernel_launcher.py:3: SettingWithCopyWarning: \n",
      "A value is trying to be set on a copy of a slice from a DataFrame.\n",
      "Try using .loc[row_indexer,col_indexer] = value instead\n",
      "\n",
      "See the caveats in the documentation: https://pandas.pydata.org/pandas-docs/stable/user_guide/indexing.html#returning-a-view-versus-a-copy\n",
      "  This is separate from the ipykernel package so we can avoid doing imports until\n",
      "/Users/chamusyuan/anaconda3/lib/python3.7/site-packages/ipykernel_launcher.py:4: SettingWithCopyWarning: \n",
      "A value is trying to be set on a copy of a slice from a DataFrame.\n",
      "Try using .loc[row_indexer,col_indexer] = value instead\n",
      "\n",
      "See the caveats in the documentation: https://pandas.pydata.org/pandas-docs/stable/user_guide/indexing.html#returning-a-view-versus-a-copy\n",
      "  after removing the cwd from sys.path.\n",
      "/Users/chamusyuan/anaconda3/lib/python3.7/site-packages/ipykernel_launcher.py:5: SettingWithCopyWarning: \n",
      "A value is trying to be set on a copy of a slice from a DataFrame.\n",
      "Try using .loc[row_indexer,col_indexer] = value instead\n",
      "\n",
      "See the caveats in the documentation: https://pandas.pydata.org/pandas-docs/stable/user_guide/indexing.html#returning-a-view-versus-a-copy\n",
      "  \"\"\"\n",
      "/Users/chamusyuan/anaconda3/lib/python3.7/site-packages/ipykernel_launcher.py:6: SettingWithCopyWarning: \n",
      "A value is trying to be set on a copy of a slice from a DataFrame.\n",
      "Try using .loc[row_indexer,col_indexer] = value instead\n",
      "\n",
      "See the caveats in the documentation: https://pandas.pydata.org/pandas-docs/stable/user_guide/indexing.html#returning-a-view-versus-a-copy\n",
      "  \n"
     ]
    }
   ],
   "source": [
    "data = preprocess_NIH(df1)"
   ]
  },
  {
   "cell_type": "code",
   "execution_count": 13,
   "metadata": {},
   "outputs": [],
   "source": [
    "np.random.seed(0)"
   ]
  },
  {
   "cell_type": "code",
   "execution_count": 14,
   "metadata": {},
   "outputs": [],
   "source": [
    "def random_split(df, split_portion):\n",
    "    \n",
    "    total_patient_id = pd.unique(df['Patient ID'])\n",
    "    total_patient_id = pd.DataFrame(data=total_patient_id, columns=['Patient ID'])\n",
    "    total_patient_id['random_number'] = np.random.uniform(size=len(total_patient_id))\n",
    "\n",
    "    train_id = total_patient_id[total_patient_id['random_number'] <= split_portion[0]]\n",
    "    valid_id = total_patient_id[(total_patient_id['random_number'] > split_portion[0]) & (total_patient_id['random_number'] <= split_portion[1])]\n",
    "    test_id = total_patient_id[total_patient_id['random_number'] > split_portion[1]]\n",
    "\n",
    "    train_id = train_id.drop(columns=['random_number'])\n",
    "    valid_id = valid_id.drop(columns=['random_number'])\n",
    "    test_id = test_id.drop(columns=['random_number'])\n",
    "\n",
    "    train_df = train_id.merge(df, left_on=\"Patient ID\", right_on=\"Patient ID\")\n",
    "    valid_df = valid_id.merge(df, left_on=\"Patient ID\", right_on=\"Patient ID\")\n",
    "    test_df = test_id.merge(df, left_on=\"Patient ID\", right_on=\"Patient ID\")\n",
    "\n",
    "    print(len(train_df))\n",
    "    print(len(valid_df))\n",
    "    print(len(test_df))\n",
    "\n",
    "    train_df.to_csv(\"train.csv\", index=False)\n",
    "    valid_df.to_csv(\"valid.csv\", index=False)\n",
    "    test_df.to_csv(\"test.csv\", index=False)"
   ]
  },
  {
   "cell_type": "code",
   "execution_count": 15,
   "metadata": {},
   "outputs": [
    {
     "name": "stdout",
     "output_type": "stream",
     "text": [
      "3854\n",
      "507\n",
      "638\n"
     ]
    }
   ],
   "source": [
    "random_split(data, [0.8,0.9])"
   ]
  },
  {
   "cell_type": "code",
   "execution_count": null,
   "metadata": {},
   "outputs": [],
   "source": []
  }
 ],
 "metadata": {
  "kernelspec": {
   "display_name": "Python 3",
   "language": "python",
   "name": "python3"
  },
  "language_info": {
   "codemirror_mode": {
    "name": "ipython",
    "version": 3
   },
   "file_extension": ".py",
   "mimetype": "text/x-python",
   "name": "python",
   "nbconvert_exporter": "python",
   "pygments_lexer": "ipython3",
   "version": "3.7.3"
  }
 },
 "nbformat": 4,
 "nbformat_minor": 2
}
